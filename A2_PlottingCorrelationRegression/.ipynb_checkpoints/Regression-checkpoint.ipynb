{
 "cells": [
  {
   "cell_type": "markdown",
   "id": "e4870c4b",
   "metadata": {},
   "source": [
    "# 5 Regression"
   ]
  },
  {
   "cell_type": "markdown",
   "id": "56dd1c0c",
   "metadata": {},
   "source": [
    "In this task, we want to combine the acquired knowledge about data exploration, plotting and correlations.\n",
    "We will write a simple prediction algorithm, a univariate regression, in Python!"
   ]
  },
  {
   "cell_type": "code",
   "execution_count": 1,
   "id": "b2e59239",
   "metadata": {},
   "outputs": [],
   "source": [
    "# import libraries\n",
    "import numpy as np\n",
    "import matplotlib.pyplot as plt\n",
    "%matplotlib inline\n",
    "from sklearn import datasets"
   ]
  },
  {
   "cell_type": "markdown",
   "id": "c100c605",
   "metadata": {},
   "source": [
    "## 5.1 Get the data\n",
    "We will utilise the same dataset as in the Plotting notebook."
   ]
  },
  {
   "cell_type": "code",
   "execution_count": 2,
   "id": "4f25001e",
   "metadata": {},
   "outputs": [],
   "source": [
    "boston = datasets.load_boston()"
   ]
  },
  {
   "cell_type": "markdown",
   "id": "59cf4d25",
   "metadata": {},
   "source": [
    "One might remember that the dataset had 13 features and 1 target. For machine learning purposes one feature is labeled as the target because it is often the goal to predict this feature of interest out of other features.\n",
    "\n",
    "Our task will now also be to predict the target feature MEDV, the median value in 1000$s, via a regression.\n",
    "\n",
    "First, we need to find which feature would be a good candidate for predicting the target. Correlation can be a good indicator for close relationships of different features"
   ]
  },
  {
   "cell_type": "code",
   "execution_count": 3,
   "id": "7dbdf055",
   "metadata": {},
   "outputs": [],
   "source": [
    "data = np.concatenate((boston[\"data\"], boston[\"target\"].reshape(-1,1)),\n",
    "                      axis=1)\n",
    "names = list(boston[\"feature_names\"]) + [\"MEDV\"]\n",
    "corr = np.corrcoef(data, rowvar=False)"
   ]
  },
  {
   "cell_type": "markdown",
   "id": "4e9984f4",
   "metadata": {},
   "source": [
    "## 5.2 Choose a predictor"
   ]
  },
  {
   "cell_type": "markdown",
   "id": "d28b332c",
   "metadata": {},
   "source": [
    "### Task 5.2.1 Visualise correlation matrix\n",
    "We did some quick Numpy magic to concatenate the target values to our feature matrix and then created a correlation matrix which contains the correlation coefficients between all features.\n",
    "\n",
    "Now, we need to plot those coefficients in a way that let's us decide which is a good predictor for our target MEDV.\n",
    "\n",
    "Try to remember how you plotted 2D matrices in Task 1."
   ]
  },
  {
   "cell_type": "code",
   "execution_count": 11,
   "id": "9ac49ab3",
   "metadata": {
    "scrolled": false
   },
   "outputs": [
    {
     "data": {
      "image/png": "[encoded data removed]",
      "text/plain": [
       "<Figure size 432x288 with 2 Axes>"
      ]
     },
     "metadata": {
      "needs_background": "light"
     },
     "output_type": "display_data"
    }
   ],
   "source": [
    "plt.imshow(corr, cmap=\"PiYG\")\n",
    "plt.xticks(np.arange(len(names)), labels=names, rotation=45)\n",
    "plt.yticks(np.arange(len(names)), labels=names)\n",
    "plt.title(\"Correlation of features\")\n",
    "plt.colorbar()\n",
    "plt.show()"
   ]
  },
  {
   "cell_type": "markdown",
   "id": "6b2a2578",
   "metadata": {},
   "source": [
    "### Task 5.2.2 Choose a predicting feature\n",
    "Now that we can easily grasp the correlations between the variables,\n",
    "we should choose a predicting feature that has a high correlation with our target feature MEDV (dependent variable).\n",
    "\n",
    "Choose a predictor (independent variable) and isolate the feature in the variable _x_."
   ]
  },
  {
   "cell_type": "code",
   "execution_count": 19,
   "id": "b6a19792",
   "metadata": {},
   "outputs": [
    {
     "ename": "IndexError",
     "evalue": "only integers, slices (`:`), ellipsis (`...`), numpy.newaxis (`None`) and integer or boolean arrays are valid indices",
     "output_type": "error",
     "traceback": [
      "\u001b[0;31m---------------------------------------------------------------------------\u001b[0m",
      "\u001b[0;31mIndexError\u001b[0m                                Traceback (most recent call last)",
      "\u001b[0;32m<ipython-input-19-e27d20135f32>\u001b[0m in \u001b[0;36m<module>\u001b[0;34m\u001b[0m\n\u001b[1;32m      1\u001b[0m \u001b[0mmedv\u001b[0m \u001b[0;34m=\u001b[0m \u001b[0mboston\u001b[0m\u001b[0;34m[\u001b[0m\u001b[0;34m\"target\"\u001b[0m\u001b[0;34m]\u001b[0m\u001b[0;34m\u001b[0m\u001b[0;34m\u001b[0m\u001b[0m\n\u001b[0;32m----> 2\u001b[0;31m \u001b[0mboston\u001b[0m\u001b[0;34m.\u001b[0m\u001b[0mdata\u001b[0m\u001b[0;34m[\u001b[0m\u001b[0;34m\"DESCR\"\u001b[0m\u001b[0;34m]\u001b[0m\u001b[0;34m\u001b[0m\u001b[0;34m\u001b[0m\u001b[0m\n\u001b[0m",
      "\u001b[0;31mIndexError\u001b[0m: only integers, slices (`:`), ellipsis (`...`), numpy.newaxis (`None`) and integer or boolean arrays are valid indices"
     ]
    }
   ],
   "source": [
    "medv = boston[\"target\"]\n",
    "boston.data[\"DESCR\"]\n"
   ]
  },
  {
   "cell_type": "markdown",
   "id": "a803526d",
   "metadata": {},
   "source": [
    "### Task 5.2.2 Plotting variables\n",
    "Now that we have decided on a feature, we can plot our predictor against our target.\n",
    "A scatter plot would be a good fit for this task.\n",
    "\n",
    "_Hint_: Don't forget all the information about plotting from task 1!"
   ]
  },
  {
   "cell_type": "code",
   "execution_count": null,
   "id": "8598ffdb",
   "metadata": {},
   "outputs": [],
   "source": [
    "# your code here\n",
    "plt.title(\"Your Title here\")\n",
    "plt.xlabel(\"Your X Label here\")\n",
    "plt.ylabel(\"Your Y Label here\")\n",
    "plt.show()"
   ]
  },
  {
   "cell_type": "markdown",
   "id": "d14856bc",
   "metadata": {},
   "source": [
    "## 5.3 Set up the function"
   ]
  },
  {
   "cell_type": "markdown",
   "id": "f57ad37e",
   "metadata": {},
   "source": [
    "From the lecture, we know that the function for a linear regression is as follows:\n",
    "\n",
    "$$ \\huge y = \\beta_0 + \\beta_1 x + \\epsilon $$\n",
    "\n",
    "$y$ is the target or dependent variable\n",
    "\n",
    "$\\beta_0$ is the y-intercept\n",
    "\n",
    "$\\beta_1$ is the slope\n",
    "\n",
    "$x$ is the predicting or independent variable\n",
    "\n",
    "$\\epsilon$ is the residual error"
   ]
  },
  {
   "cell_type": "markdown",
   "id": "1079094a",
   "metadata": {},
   "source": [
    "We need to calculate $\\beta_0$ and $\\beta_1$ while minimising $\\epsilon$.\n"
   ]
  },
  {
   "cell_type": "markdown",
   "id": "42ba78c0",
   "metadata": {},
   "source": [
    "### Task 5.3.1 Calculate $\\beta_1$\n",
    "From the lecture, we also know that we can calculate $\\beta_1$ with the following equation when minimising $\\epsilon$:\n",
    "\n",
    "$$ \\beta_1 = \\frac{\\sum_{data}(x-\\bar{x})(y-\\bar{y})}{\\sum_{data}(x-\\bar{x})^2} $$\n",
    "\n",
    "$\\bar{y}$ and $\\bar{x}$ are the mean values of the variables y and x, respectively.\n",
    "\n",
    "Calculate $\\beta_1$ and save the result in the variable _beta_one_."
   ]
  },
  {
   "cell_type": "code",
   "execution_count": null,
   "id": "22ef6bd7",
   "metadata": {},
   "outputs": [],
   "source": [
    "# Your code here\n",
    "beta_one = # your result here."
   ]
  },
  {
   "cell_type": "markdown",
   "id": "49148d3e",
   "metadata": {},
   "source": [
    "### Task 5.3.2 Calculate $\\beta_0$\n",
    "From the lecture, we also know that we can calculate $\\beta_0$ with the following equation when minimising $\\epsilon$:\n",
    "\n",
    "$$ \\beta_0 = \\bar{y} - \\beta_1 \\bar{x}. $$\n",
    "\n",
    "Again, $\\bar{y}$ and $\\bar{x}$ are the mean values of the variables y and x, respectively.\n",
    "\n",
    "Calculate $\\beta_0$ and save the result in the variable _beta_zero_."
   ]
  },
  {
   "cell_type": "code",
   "execution_count": null,
   "id": "e5b435bb",
   "metadata": {},
   "outputs": [],
   "source": [
    "# Your code here\n",
    "beta_zero = # your result here"
   ]
  },
  {
   "cell_type": "markdown",
   "id": "760b1fb6",
   "metadata": {},
   "source": [
    "### Task 5.3.3 Write the regression function\n",
    "Now create python function that takes the independent variable as an input and returns the value of the dependent variable."
   ]
  },
  {
   "cell_type": "code",
   "execution_count": null,
   "id": "1e6cbbe8",
   "metadata": {},
   "outputs": [],
   "source": [
    "def regress(x):\n",
    "    # your code here\n",
    "    return y"
   ]
  },
  {
   "cell_type": "markdown",
   "id": "a02e5f97",
   "metadata": {},
   "source": [
    "## 5.4 Visualise the regression\n",
    "\n",
    "### 5.4.1 Plot the regression\n",
    "\n",
    "Recreate the plot from task 5.2.2 but this time include the regression function.\n",
    "\n",
    "_Hint_: In order to plot the regression function, you might need to supply it with artificial datapoints. The numpy function np.arange can be of help here."
   ]
  },
  {
   "cell_type": "code",
   "execution_count": null,
   "id": "62c3dd7f",
   "metadata": {},
   "outputs": [],
   "source": [
    "# your code here"
   ]
  }
 ],
 "metadata": {
  "kernelspec": {
   "display_name": "Python 3",
   "language": "python",
   "name": "python3"
  },
  "language_info": {
   "codemirror_mode": {
    "name": "ipython",
    "version": 3
   },
   "file_extension": ".py",
   "mimetype": "text/x-python",
   "name": "python",
   "nbconvert_exporter": "python",
   "pygments_lexer": "ipython3",
   "version": "3.9.3"
  }
 },
 "nbformat": 4,
 "nbformat_minor": 5
}
